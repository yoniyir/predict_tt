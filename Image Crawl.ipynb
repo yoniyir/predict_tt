{
 "cells": [
  {
   "cell_type": "code",
   "execution_count": 1,
   "id": "2d3f250d",
   "metadata": {},
   "outputs": [],
   "source": [
    "import requests\n",
    "from bs4 import BeautifulSoup\n",
    "from PIL import Image\n"
   ]
  },
  {
   "cell_type": "code",
   "execution_count": 3,
   "id": "6e3f21dd",
   "metadata": {},
   "outputs": [],
   "source": [
    "res = requests.get('http://www.tttm.co.il/rk/MS-2/%D7%98%D7%A0%D7%99%D7%A1-%D7%A9%D7%95%D7%9C%D7%97%D7%9F-%D7%93%D7%99%D7%A8%D7%95%D7%92-%D7%92%D7%91%D7%A8%D7%99%D7%9D')\n",
    "soup = BeautifulSoup(res.content,'html.parser')\n",
    "trays = soup.find_all('tr')\n",
    "for t in trays:\n",
    "    try:\n",
    "     \n",
    "        image = t.find('img',attrs={\"class\":\"playerPict\"})\n",
    "        _id = t.find_all('td')\n",
    "        image_url = image['src']\n",
    "        img = Image.open(requests.get('http://www.tttm.co.il'+image_url, stream = True).raw)\n",
    "        img.save(f'players_pics/{_id[2].text}.jpg')\n",
    "    except:\n",
    "        pass"
   ]
  },
  {
   "cell_type": "code",
   "execution_count": null,
   "id": "04830fba",
   "metadata": {},
   "outputs": [],
   "source": []
  }
 ],
 "metadata": {
  "kernelspec": {
   "display_name": "Python 3",
   "language": "python",
   "name": "python3"
  },
  "language_info": {
   "codemirror_mode": {
    "name": "ipython",
    "version": 3
   },
   "file_extension": ".py",
   "mimetype": "text/x-python",
   "name": "python",
   "nbconvert_exporter": "python",
   "pygments_lexer": "ipython3",
   "version": "3.8.8"
  }
 },
 "nbformat": 4,
 "nbformat_minor": 5
}
