{
 "cells": [
  {
   "cell_type": "markdown",
   "id": "47f810cc",
   "metadata": {},
   "source": [
    "# Machine Learning\n",
    "## After we crawled, extracted, processed and visualised the data, we are going to preform different machine learning algorithms "
   ]
  },
  {
   "cell_type": "markdown",
   "id": "37fde2c6",
   "metadata": {},
   "source": [
    "#### Inital imports"
   ]
  },
  {
   "cell_type": "code",
   "execution_count": 1,
   "id": "29f310f7",
   "metadata": {},
   "outputs": [],
   "source": [
    "\n",
    "import pandas as pd\n",
    "import numpy as np\n",
    "import matplotlib as mpl\n",
    "import matplotlib.pyplot as plt      \n",
    "import math\n",
    "import seaborn as sns\n",
    "from collections import Counter\n",
    "from sklearn.decomposition import PCA\n",
    "import datetime \n",
    "import sklearn\n",
    "\n",
    "%matplotlib inline"
   ]
  },
  {
   "cell_type": "code",
   "execution_count": 2,
   "id": "754ffe76",
   "metadata": {},
   "outputs": [
    {
     "data": {
      "text/html": [
       "<div>\n",
       "<style scoped>\n",
       "    .dataframe tbody tr th:only-of-type {\n",
       "        vertical-align: middle;\n",
       "    }\n",
       "\n",
       "    .dataframe tbody tr th {\n",
       "        vertical-align: top;\n",
       "    }\n",
       "\n",
       "    .dataframe thead th {\n",
       "        text-align: right;\n",
       "    }\n",
       "</style>\n",
       "<table border=\"1\" class=\"dataframe\">\n",
       "  <thead>\n",
       "    <tr style=\"text-align: right;\">\n",
       "      <th></th>\n",
       "      <th>p1_rank</th>\n",
       "      <th>p1_home</th>\n",
       "      <th>p2_rank</th>\n",
       "      <th>p2_home</th>\n",
       "      <th>p1_prevwins</th>\n",
       "      <th>p2_prevwins</th>\n",
       "      <th>p1_form</th>\n",
       "      <th>p2_form</th>\n",
       "      <th>p1_win</th>\n",
       "      <th>p2_win</th>\n",
       "    </tr>\n",
       "  </thead>\n",
       "  <tbody>\n",
       "    <tr>\n",
       "      <th>0</th>\n",
       "      <td>1778.3</td>\n",
       "      <td>0.0</td>\n",
       "      <td>1430.4</td>\n",
       "      <td>1.0</td>\n",
       "      <td>16</td>\n",
       "      <td>0</td>\n",
       "      <td>7.5</td>\n",
       "      <td>24.5</td>\n",
       "      <td>0</td>\n",
       "      <td>1</td>\n",
       "    </tr>\n",
       "    <tr>\n",
       "      <th>1</th>\n",
       "      <td>1778.3</td>\n",
       "      <td>1.0</td>\n",
       "      <td>1412.8</td>\n",
       "      <td>0.0</td>\n",
       "      <td>6</td>\n",
       "      <td>0</td>\n",
       "      <td>-12.0</td>\n",
       "      <td>16.5</td>\n",
       "      <td>1</td>\n",
       "      <td>0</td>\n",
       "    </tr>\n",
       "    <tr>\n",
       "      <th>2</th>\n",
       "      <td>1778.3</td>\n",
       "      <td>1.0</td>\n",
       "      <td>1350.0</td>\n",
       "      <td>0.0</td>\n",
       "      <td>3</td>\n",
       "      <td>0</td>\n",
       "      <td>-10.5</td>\n",
       "      <td>8.5</td>\n",
       "      <td>1</td>\n",
       "      <td>0</td>\n",
       "    </tr>\n",
       "    <tr>\n",
       "      <th>3</th>\n",
       "      <td>1778.3</td>\n",
       "      <td>1.0</td>\n",
       "      <td>1099.8</td>\n",
       "      <td>0.0</td>\n",
       "      <td>2</td>\n",
       "      <td>0</td>\n",
       "      <td>-16.5</td>\n",
       "      <td>0.0</td>\n",
       "      <td>1</td>\n",
       "      <td>0</td>\n",
       "    </tr>\n",
       "    <tr>\n",
       "      <th>4</th>\n",
       "      <td>1778.3</td>\n",
       "      <td>1.0</td>\n",
       "      <td>1522.8</td>\n",
       "      <td>0.0</td>\n",
       "      <td>0</td>\n",
       "      <td>0</td>\n",
       "      <td>3.0</td>\n",
       "      <td>10.4</td>\n",
       "      <td>0</td>\n",
       "      <td>1</td>\n",
       "    </tr>\n",
       "    <tr>\n",
       "      <th>...</th>\n",
       "      <td>...</td>\n",
       "      <td>...</td>\n",
       "      <td>...</td>\n",
       "      <td>...</td>\n",
       "      <td>...</td>\n",
       "      <td>...</td>\n",
       "      <td>...</td>\n",
       "      <td>...</td>\n",
       "      <td>...</td>\n",
       "      <td>...</td>\n",
       "    </tr>\n",
       "    <tr>\n",
       "      <th>27311</th>\n",
       "      <td>668.6</td>\n",
       "      <td>0.0</td>\n",
       "      <td>669.1</td>\n",
       "      <td>1.0</td>\n",
       "      <td>0</td>\n",
       "      <td>0</td>\n",
       "      <td>2.0</td>\n",
       "      <td>-21.0</td>\n",
       "      <td>0</td>\n",
       "      <td>1</td>\n",
       "    </tr>\n",
       "    <tr>\n",
       "      <th>27312</th>\n",
       "      <td>668.6</td>\n",
       "      <td>0.0</td>\n",
       "      <td>928.9</td>\n",
       "      <td>1.0</td>\n",
       "      <td>0</td>\n",
       "      <td>0</td>\n",
       "      <td>1.0</td>\n",
       "      <td>24.0</td>\n",
       "      <td>0</td>\n",
       "      <td>1</td>\n",
       "    </tr>\n",
       "    <tr>\n",
       "      <th>27313</th>\n",
       "      <td>668.6</td>\n",
       "      <td>1.0</td>\n",
       "      <td>749.7</td>\n",
       "      <td>0.0</td>\n",
       "      <td>1</td>\n",
       "      <td>0</td>\n",
       "      <td>-1.0</td>\n",
       "      <td>12.0</td>\n",
       "      <td>1</td>\n",
       "      <td>0</td>\n",
       "    </tr>\n",
       "    <tr>\n",
       "      <th>27314</th>\n",
       "      <td>668.6</td>\n",
       "      <td>0.0</td>\n",
       "      <td>574.4</td>\n",
       "      <td>1.0</td>\n",
       "      <td>0</td>\n",
       "      <td>0</td>\n",
       "      <td>-8.0</td>\n",
       "      <td>0.0</td>\n",
       "      <td>1</td>\n",
       "      <td>0</td>\n",
       "    </tr>\n",
       "    <tr>\n",
       "      <th>27315</th>\n",
       "      <td>668.6</td>\n",
       "      <td>0.0</td>\n",
       "      <td>735.3</td>\n",
       "      <td>1.0</td>\n",
       "      <td>0</td>\n",
       "      <td>0</td>\n",
       "      <td>6.0</td>\n",
       "      <td>6.0</td>\n",
       "      <td>0</td>\n",
       "      <td>1</td>\n",
       "    </tr>\n",
       "  </tbody>\n",
       "</table>\n",
       "<p>27316 rows × 10 columns</p>\n",
       "</div>"
      ],
      "text/plain": [
       "       p1_rank  p1_home  p2_rank  p2_home  p1_prevwins  p2_prevwins  p1_form  \\\n",
       "0       1778.3      0.0   1430.4      1.0           16            0      7.5   \n",
       "1       1778.3      1.0   1412.8      0.0            6            0    -12.0   \n",
       "2       1778.3      1.0   1350.0      0.0            3            0    -10.5   \n",
       "3       1778.3      1.0   1099.8      0.0            2            0    -16.5   \n",
       "4       1778.3      1.0   1522.8      0.0            0            0      3.0   \n",
       "...        ...      ...      ...      ...          ...          ...      ...   \n",
       "27311    668.6      0.0    669.1      1.0            0            0      2.0   \n",
       "27312    668.6      0.0    928.9      1.0            0            0      1.0   \n",
       "27313    668.6      1.0    749.7      0.0            1            0     -1.0   \n",
       "27314    668.6      0.0    574.4      1.0            0            0     -8.0   \n",
       "27315    668.6      0.0    735.3      1.0            0            0      6.0   \n",
       "\n",
       "       p2_form  p1_win  p2_win  \n",
       "0         24.5       0       1  \n",
       "1         16.5       1       0  \n",
       "2          8.5       1       0  \n",
       "3          0.0       1       0  \n",
       "4         10.4       0       1  \n",
       "...        ...     ...     ...  \n",
       "27311    -21.0       0       1  \n",
       "27312     24.0       0       1  \n",
       "27313     12.0       1       0  \n",
       "27314      0.0       1       0  \n",
       "27315      6.0       0       1  \n",
       "\n",
       "[27316 rows x 10 columns]"
      ]
     },
     "execution_count": 2,
     "metadata": {},
     "output_type": "execute_result"
    }
   ],
   "source": [
    "games_df = pd.read_csv('games_table.csv',sep=',')\n",
    "games_df.drop(['winner_id','p1_id','p2_id','diff_win','points_diff','p1_sets','p2_sets','Unnamed: 0','match_id',\n",
    "               'match_type','date','p1_name','p2_name','p1_club','p2_club','p1_points_gained','p2_points_gained'],axis=1,inplace=True)\n",
    "games_df\n"
   ]
  },
  {
   "cell_type": "code",
   "execution_count": 3,
   "id": "dad2cc2b",
   "metadata": {},
   "outputs": [
    {
     "name": "stdout",
     "output_type": "stream",
     "text": [
      "<class 'pandas.core.frame.DataFrame'>\n",
      "RangeIndex: 27316 entries, 0 to 27315\n",
      "Data columns (total 10 columns):\n",
      " #   Column       Non-Null Count  Dtype  \n",
      "---  ------       --------------  -----  \n",
      " 0   p1_rank      27316 non-null  float64\n",
      " 1   p1_home      27316 non-null  float64\n",
      " 2   p2_rank      27316 non-null  float64\n",
      " 3   p2_home      27316 non-null  float64\n",
      " 4   p1_prevwins  27316 non-null  int64  \n",
      " 5   p2_prevwins  27316 non-null  int64  \n",
      " 6   p1_form      27316 non-null  float64\n",
      " 7   p2_form      27316 non-null  float64\n",
      " 8   p1_win       27316 non-null  int64  \n",
      " 9   p2_win       27316 non-null  int64  \n",
      "dtypes: float64(6), int64(4)\n",
      "memory usage: 2.1 MB\n"
     ]
    }
   ],
   "source": [
    "games_df.fillna(0,inplace=True)\n",
    "games_df.info()"
   ]
  },
  {
   "cell_type": "markdown",
   "id": "ca893edf",
   "metadata": {},
   "source": [
    "### At this point we only need these specific columns:\n",
    "#### p1_rank, p1_home, p2_rank, p2_home, p1_prevwins, p2_prevwins, p1_form, p2_form, p1_win, p2_win"
   ]
  },
  {
   "cell_type": "code",
   "execution_count": 4,
   "id": "1d182891",
   "metadata": {},
   "outputs": [],
   "source": [
    "games_df['is_p1_win'] = games_df['p1_win']\n",
    "games_df.drop(['p1_win','p2_win'],axis=1,inplace=True)"
   ]
  },
  {
   "cell_type": "code",
   "execution_count": 5,
   "id": "3dfeb5c4",
   "metadata": {},
   "outputs": [
    {
     "data": {
      "text/html": [
       "<div>\n",
       "<style scoped>\n",
       "    .dataframe tbody tr th:only-of-type {\n",
       "        vertical-align: middle;\n",
       "    }\n",
       "\n",
       "    .dataframe tbody tr th {\n",
       "        vertical-align: top;\n",
       "    }\n",
       "\n",
       "    .dataframe thead th {\n",
       "        text-align: right;\n",
       "    }\n",
       "</style>\n",
       "<table border=\"1\" class=\"dataframe\">\n",
       "  <thead>\n",
       "    <tr style=\"text-align: right;\">\n",
       "      <th></th>\n",
       "      <th>p1_rank</th>\n",
       "      <th>p1_home</th>\n",
       "      <th>p2_rank</th>\n",
       "      <th>p2_home</th>\n",
       "      <th>p1_prevwins</th>\n",
       "      <th>p2_prevwins</th>\n",
       "      <th>p1_form</th>\n",
       "      <th>p2_form</th>\n",
       "      <th>is_p1_win</th>\n",
       "    </tr>\n",
       "  </thead>\n",
       "  <tbody>\n",
       "    <tr>\n",
       "      <th>0</th>\n",
       "      <td>1778.3</td>\n",
       "      <td>0.0</td>\n",
       "      <td>1430.4</td>\n",
       "      <td>1.0</td>\n",
       "      <td>16</td>\n",
       "      <td>0</td>\n",
       "      <td>7.5</td>\n",
       "      <td>24.5</td>\n",
       "      <td>0</td>\n",
       "    </tr>\n",
       "    <tr>\n",
       "      <th>1</th>\n",
       "      <td>1778.3</td>\n",
       "      <td>1.0</td>\n",
       "      <td>1412.8</td>\n",
       "      <td>0.0</td>\n",
       "      <td>6</td>\n",
       "      <td>0</td>\n",
       "      <td>-12.0</td>\n",
       "      <td>16.5</td>\n",
       "      <td>1</td>\n",
       "    </tr>\n",
       "    <tr>\n",
       "      <th>2</th>\n",
       "      <td>1778.3</td>\n",
       "      <td>1.0</td>\n",
       "      <td>1350.0</td>\n",
       "      <td>0.0</td>\n",
       "      <td>3</td>\n",
       "      <td>0</td>\n",
       "      <td>-10.5</td>\n",
       "      <td>8.5</td>\n",
       "      <td>1</td>\n",
       "    </tr>\n",
       "    <tr>\n",
       "      <th>3</th>\n",
       "      <td>1778.3</td>\n",
       "      <td>1.0</td>\n",
       "      <td>1099.8</td>\n",
       "      <td>0.0</td>\n",
       "      <td>2</td>\n",
       "      <td>0</td>\n",
       "      <td>-16.5</td>\n",
       "      <td>0.0</td>\n",
       "      <td>1</td>\n",
       "    </tr>\n",
       "    <tr>\n",
       "      <th>4</th>\n",
       "      <td>1778.3</td>\n",
       "      <td>1.0</td>\n",
       "      <td>1522.8</td>\n",
       "      <td>0.0</td>\n",
       "      <td>0</td>\n",
       "      <td>0</td>\n",
       "      <td>3.0</td>\n",
       "      <td>10.4</td>\n",
       "      <td>0</td>\n",
       "    </tr>\n",
       "    <tr>\n",
       "      <th>...</th>\n",
       "      <td>...</td>\n",
       "      <td>...</td>\n",
       "      <td>...</td>\n",
       "      <td>...</td>\n",
       "      <td>...</td>\n",
       "      <td>...</td>\n",
       "      <td>...</td>\n",
       "      <td>...</td>\n",
       "      <td>...</td>\n",
       "    </tr>\n",
       "    <tr>\n",
       "      <th>27311</th>\n",
       "      <td>668.6</td>\n",
       "      <td>0.0</td>\n",
       "      <td>669.1</td>\n",
       "      <td>1.0</td>\n",
       "      <td>0</td>\n",
       "      <td>0</td>\n",
       "      <td>2.0</td>\n",
       "      <td>-21.0</td>\n",
       "      <td>0</td>\n",
       "    </tr>\n",
       "    <tr>\n",
       "      <th>27312</th>\n",
       "      <td>668.6</td>\n",
       "      <td>0.0</td>\n",
       "      <td>928.9</td>\n",
       "      <td>1.0</td>\n",
       "      <td>0</td>\n",
       "      <td>0</td>\n",
       "      <td>1.0</td>\n",
       "      <td>24.0</td>\n",
       "      <td>0</td>\n",
       "    </tr>\n",
       "    <tr>\n",
       "      <th>27313</th>\n",
       "      <td>668.6</td>\n",
       "      <td>1.0</td>\n",
       "      <td>749.7</td>\n",
       "      <td>0.0</td>\n",
       "      <td>1</td>\n",
       "      <td>0</td>\n",
       "      <td>-1.0</td>\n",
       "      <td>12.0</td>\n",
       "      <td>1</td>\n",
       "    </tr>\n",
       "    <tr>\n",
       "      <th>27314</th>\n",
       "      <td>668.6</td>\n",
       "      <td>0.0</td>\n",
       "      <td>574.4</td>\n",
       "      <td>1.0</td>\n",
       "      <td>0</td>\n",
       "      <td>0</td>\n",
       "      <td>-8.0</td>\n",
       "      <td>0.0</td>\n",
       "      <td>1</td>\n",
       "    </tr>\n",
       "    <tr>\n",
       "      <th>27315</th>\n",
       "      <td>668.6</td>\n",
       "      <td>0.0</td>\n",
       "      <td>735.3</td>\n",
       "      <td>1.0</td>\n",
       "      <td>0</td>\n",
       "      <td>0</td>\n",
       "      <td>6.0</td>\n",
       "      <td>6.0</td>\n",
       "      <td>0</td>\n",
       "    </tr>\n",
       "  </tbody>\n",
       "</table>\n",
       "<p>27316 rows × 9 columns</p>\n",
       "</div>"
      ],
      "text/plain": [
       "       p1_rank  p1_home  p2_rank  p2_home  p1_prevwins  p2_prevwins  p1_form  \\\n",
       "0       1778.3      0.0   1430.4      1.0           16            0      7.5   \n",
       "1       1778.3      1.0   1412.8      0.0            6            0    -12.0   \n",
       "2       1778.3      1.0   1350.0      0.0            3            0    -10.5   \n",
       "3       1778.3      1.0   1099.8      0.0            2            0    -16.5   \n",
       "4       1778.3      1.0   1522.8      0.0            0            0      3.0   \n",
       "...        ...      ...      ...      ...          ...          ...      ...   \n",
       "27311    668.6      0.0    669.1      1.0            0            0      2.0   \n",
       "27312    668.6      0.0    928.9      1.0            0            0      1.0   \n",
       "27313    668.6      1.0    749.7      0.0            1            0     -1.0   \n",
       "27314    668.6      0.0    574.4      1.0            0            0     -8.0   \n",
       "27315    668.6      0.0    735.3      1.0            0            0      6.0   \n",
       "\n",
       "       p2_form  is_p1_win  \n",
       "0         24.5          0  \n",
       "1         16.5          1  \n",
       "2          8.5          1  \n",
       "3          0.0          1  \n",
       "4         10.4          0  \n",
       "...        ...        ...  \n",
       "27311    -21.0          0  \n",
       "27312     24.0          0  \n",
       "27313     12.0          1  \n",
       "27314      0.0          1  \n",
       "27315      6.0          0  \n",
       "\n",
       "[27316 rows x 9 columns]"
      ]
     },
     "execution_count": 5,
     "metadata": {},
     "output_type": "execute_result"
    }
   ],
   "source": [
    "games_df"
   ]
  },
  {
   "cell_type": "code",
   "execution_count": 6,
   "id": "ecd48054",
   "metadata": {},
   "outputs": [],
   "source": [
    "X = games_df.drop('is_p1_win',axis=1)\n",
    "y = games_df['is_p1_win']\n"
   ]
  },
  {
   "cell_type": "code",
   "execution_count": 7,
   "id": "6abb0740",
   "metadata": {},
   "outputs": [],
   "source": [
    "from sklearn.model_selection import train_test_split\n",
    "from sklearn.preprocessing import StandardScaler"
   ]
  },
  {
   "cell_type": "code",
   "execution_count": 8,
   "id": "adf8f1a9",
   "metadata": {},
   "outputs": [],
   "source": [
    "scaler = StandardScaler()\n",
    "X_train, X_test, y_train, y_test = train_test_split(X,y,test_size=0.2,random_state=42)"
   ]
  },
  {
   "cell_type": "code",
   "execution_count": 9,
   "id": "cd93c86c",
   "metadata": {},
   "outputs": [],
   "source": [
    "scaled_X_train = scaler.fit_transform(X_train)\n",
    "scaled_X_test = scaler.transform(X_test)"
   ]
  },
  {
   "cell_type": "markdown",
   "id": "c22e49e6",
   "metadata": {},
   "source": [
    "## Logistic Regression\n",
    "#### The first model we will use"
   ]
  },
  {
   "cell_type": "code",
   "execution_count": 10,
   "id": "3266c83c",
   "metadata": {},
   "outputs": [],
   "source": [
    "from sklearn.linear_model import LogisticRegressionCV"
   ]
  },
  {
   "cell_type": "code",
   "execution_count": 11,
   "id": "fb9e1e6c",
   "metadata": {},
   "outputs": [
    {
     "data": {
      "text/plain": [
       "LogisticRegressionCV()"
      ]
     },
     "execution_count": 11,
     "metadata": {},
     "output_type": "execute_result"
    }
   ],
   "source": [
    "lg_model = LogisticRegressionCV()\n",
    "lg_model.fit(scaled_X_train,y_train)"
   ]
  },
  {
   "cell_type": "markdown",
   "id": "22480e19",
   "metadata": {},
   "source": [
    "Let's see the preformance evaluation of the first model"
   ]
  },
  {
   "cell_type": "code",
   "execution_count": 12,
   "id": "21b4a54c",
   "metadata": {},
   "outputs": [],
   "source": [
    "predictions = lg_model.predict(scaled_X_test)"
   ]
  },
  {
   "cell_type": "code",
   "execution_count": 13,
   "id": "05094ba8",
   "metadata": {},
   "outputs": [],
   "source": [
    "from sklearn.metrics import confusion_matrix,classification_report,plot_confusion_matrix"
   ]
  },
  {
   "cell_type": "code",
   "execution_count": 14,
   "id": "d8cc0dc8",
   "metadata": {},
   "outputs": [
    {
     "data": {
      "text/plain": [
       "<sklearn.metrics._plot.confusion_matrix.ConfusionMatrixDisplay at 0x7f94410b7e20>"
      ]
     },
     "execution_count": 14,
     "metadata": {},
     "output_type": "execute_result"
    },
    {
     "data": {
      "image/png": "[encoded data removed]",
      "text/plain": [
       "<Figure size 432x288 with 2 Axes>"
      ]
     },
     "metadata": {
      "needs_background": "light"
     },
     "output_type": "display_data"
    }
   ],
   "source": [
    "plot_confusion_matrix(lg_model,scaled_X_test,y_test)"
   ]
  },
  {
   "cell_type": "code",
   "execution_count": 15,
   "id": "11954b69",
   "metadata": {},
   "outputs": [
    {
     "name": "stdout",
     "output_type": "stream",
     "text": [
      "              precision    recall  f1-score   support\n",
      "\n",
      "           0       0.71      0.76      0.73      2330\n",
      "           1       0.81      0.77      0.79      3134\n",
      "\n",
      "    accuracy                           0.76      5464\n",
      "   macro avg       0.76      0.76      0.76      5464\n",
      "weighted avg       0.77      0.76      0.76      5464\n",
      "\n"
     ]
    }
   ],
   "source": [
    "print(classification_report(predictions,y_test))"
   ]
  },
  {
   "cell_type": "code",
   "execution_count": 16,
   "id": "1fcaeb2e",
   "metadata": {},
   "outputs": [
    {
     "data": {
      "text/plain": [
       "array([[ 1.67211128,  0.06352556, -1.84667761, -0.01069946,  0.15030156,\n",
       "        -0.13724745,  0.23407676, -0.22280752]])"
      ]
     },
     "execution_count": 16,
     "metadata": {},
     "output_type": "execute_result"
    }
   ],
   "source": [
    "lg_model.coef_"
   ]
  },
  {
   "cell_type": "markdown",
   "id": "eed34e49",
   "metadata": {},
   "source": [
    "## Random Forest\n",
    "#### The second model we will use"
   ]
  },
  {
   "cell_type": "code",
   "execution_count": 17,
   "id": "875d7a03",
   "metadata": {},
   "outputs": [
    {
     "data": {
      "text/html": [
       "<div>\n",
       "<style scoped>\n",
       "    .dataframe tbody tr th:only-of-type {\n",
       "        vertical-align: middle;\n",
       "    }\n",
       "\n",
       "    .dataframe tbody tr th {\n",
       "        vertical-align: top;\n",
       "    }\n",
       "\n",
       "    .dataframe thead th {\n",
       "        text-align: right;\n",
       "    }\n",
       "</style>\n",
       "<table border=\"1\" class=\"dataframe\">\n",
       "  <thead>\n",
       "    <tr style=\"text-align: right;\">\n",
       "      <th></th>\n",
       "      <th>p1_rank</th>\n",
       "      <th>p1_home</th>\n",
       "      <th>p2_rank</th>\n",
       "      <th>p2_home</th>\n",
       "      <th>p1_prevwins</th>\n",
       "      <th>p2_prevwins</th>\n",
       "      <th>p1_form</th>\n",
       "      <th>p2_form</th>\n",
       "      <th>is_p1_win</th>\n",
       "      <th>diff</th>\n",
       "    </tr>\n",
       "  </thead>\n",
       "  <tbody>\n",
       "    <tr>\n",
       "      <th>0</th>\n",
       "      <td>1778.3</td>\n",
       "      <td>0.0</td>\n",
       "      <td>1430.4</td>\n",
       "      <td>1.0</td>\n",
       "      <td>16</td>\n",
       "      <td>0</td>\n",
       "      <td>7.5</td>\n",
       "      <td>24.5</td>\n",
       "      <td>0</td>\n",
       "      <td>347.9</td>\n",
       "    </tr>\n",
       "    <tr>\n",
       "      <th>1</th>\n",
       "      <td>1778.3</td>\n",
       "      <td>1.0</td>\n",
       "      <td>1412.8</td>\n",
       "      <td>0.0</td>\n",
       "      <td>6</td>\n",
       "      <td>0</td>\n",
       "      <td>-12.0</td>\n",
       "      <td>16.5</td>\n",
       "      <td>1</td>\n",
       "      <td>365.5</td>\n",
       "    </tr>\n",
       "    <tr>\n",
       "      <th>2</th>\n",
       "      <td>1778.3</td>\n",
       "      <td>1.0</td>\n",
       "      <td>1350.0</td>\n",
       "      <td>0.0</td>\n",
       "      <td>3</td>\n",
       "      <td>0</td>\n",
       "      <td>-10.5</td>\n",
       "      <td>8.5</td>\n",
       "      <td>1</td>\n",
       "      <td>428.3</td>\n",
       "    </tr>\n",
       "    <tr>\n",
       "      <th>3</th>\n",
       "      <td>1778.3</td>\n",
       "      <td>1.0</td>\n",
       "      <td>1099.8</td>\n",
       "      <td>0.0</td>\n",
       "      <td>2</td>\n",
       "      <td>0</td>\n",
       "      <td>-16.5</td>\n",
       "      <td>0.0</td>\n",
       "      <td>1</td>\n",
       "      <td>678.5</td>\n",
       "    </tr>\n",
       "    <tr>\n",
       "      <th>4</th>\n",
       "      <td>1778.3</td>\n",
       "      <td>1.0</td>\n",
       "      <td>1522.8</td>\n",
       "      <td>0.0</td>\n",
       "      <td>0</td>\n",
       "      <td>0</td>\n",
       "      <td>3.0</td>\n",
       "      <td>10.4</td>\n",
       "      <td>0</td>\n",
       "      <td>255.5</td>\n",
       "    </tr>\n",
       "    <tr>\n",
       "      <th>...</th>\n",
       "      <td>...</td>\n",
       "      <td>...</td>\n",
       "      <td>...</td>\n",
       "      <td>...</td>\n",
       "      <td>...</td>\n",
       "      <td>...</td>\n",
       "      <td>...</td>\n",
       "      <td>...</td>\n",
       "      <td>...</td>\n",
       "      <td>...</td>\n",
       "    </tr>\n",
       "    <tr>\n",
       "      <th>27311</th>\n",
       "      <td>668.6</td>\n",
       "      <td>0.0</td>\n",
       "      <td>669.1</td>\n",
       "      <td>1.0</td>\n",
       "      <td>0</td>\n",
       "      <td>0</td>\n",
       "      <td>2.0</td>\n",
       "      <td>-21.0</td>\n",
       "      <td>0</td>\n",
       "      <td>-0.5</td>\n",
       "    </tr>\n",
       "    <tr>\n",
       "      <th>27312</th>\n",
       "      <td>668.6</td>\n",
       "      <td>0.0</td>\n",
       "      <td>928.9</td>\n",
       "      <td>1.0</td>\n",
       "      <td>0</td>\n",
       "      <td>0</td>\n",
       "      <td>1.0</td>\n",
       "      <td>24.0</td>\n",
       "      <td>0</td>\n",
       "      <td>-260.3</td>\n",
       "    </tr>\n",
       "    <tr>\n",
       "      <th>27313</th>\n",
       "      <td>668.6</td>\n",
       "      <td>1.0</td>\n",
       "      <td>749.7</td>\n",
       "      <td>0.0</td>\n",
       "      <td>1</td>\n",
       "      <td>0</td>\n",
       "      <td>-1.0</td>\n",
       "      <td>12.0</td>\n",
       "      <td>1</td>\n",
       "      <td>-81.1</td>\n",
       "    </tr>\n",
       "    <tr>\n",
       "      <th>27314</th>\n",
       "      <td>668.6</td>\n",
       "      <td>0.0</td>\n",
       "      <td>574.4</td>\n",
       "      <td>1.0</td>\n",
       "      <td>0</td>\n",
       "      <td>0</td>\n",
       "      <td>-8.0</td>\n",
       "      <td>0.0</td>\n",
       "      <td>1</td>\n",
       "      <td>94.2</td>\n",
       "    </tr>\n",
       "    <tr>\n",
       "      <th>27315</th>\n",
       "      <td>668.6</td>\n",
       "      <td>0.0</td>\n",
       "      <td>735.3</td>\n",
       "      <td>1.0</td>\n",
       "      <td>0</td>\n",
       "      <td>0</td>\n",
       "      <td>6.0</td>\n",
       "      <td>6.0</td>\n",
       "      <td>0</td>\n",
       "      <td>-66.7</td>\n",
       "    </tr>\n",
       "  </tbody>\n",
       "</table>\n",
       "<p>27316 rows × 10 columns</p>\n",
       "</div>"
      ],
      "text/plain": [
       "       p1_rank  p1_home  p2_rank  p2_home  p1_prevwins  p2_prevwins  p1_form  \\\n",
       "0       1778.3      0.0   1430.4      1.0           16            0      7.5   \n",
       "1       1778.3      1.0   1412.8      0.0            6            0    -12.0   \n",
       "2       1778.3      1.0   1350.0      0.0            3            0    -10.5   \n",
       "3       1778.3      1.0   1099.8      0.0            2            0    -16.5   \n",
       "4       1778.3      1.0   1522.8      0.0            0            0      3.0   \n",
       "...        ...      ...      ...      ...          ...          ...      ...   \n",
       "27311    668.6      0.0    669.1      1.0            0            0      2.0   \n",
       "27312    668.6      0.0    928.9      1.0            0            0      1.0   \n",
       "27313    668.6      1.0    749.7      0.0            1            0     -1.0   \n",
       "27314    668.6      0.0    574.4      1.0            0            0     -8.0   \n",
       "27315    668.6      0.0    735.3      1.0            0            0      6.0   \n",
       "\n",
       "       p2_form  is_p1_win   diff  \n",
       "0         24.5          0  347.9  \n",
       "1         16.5          1  365.5  \n",
       "2          8.5          1  428.3  \n",
       "3          0.0          1  678.5  \n",
       "4         10.4          0  255.5  \n",
       "...        ...        ...    ...  \n",
       "27311    -21.0          0   -0.5  \n",
       "27312     24.0          0 -260.3  \n",
       "27313     12.0          1  -81.1  \n",
       "27314      0.0          1   94.2  \n",
       "27315      6.0          0  -66.7  \n",
       "\n",
       "[27316 rows x 10 columns]"
      ]
     },
     "execution_count": 17,
     "metadata": {},
     "output_type": "execute_result"
    }
   ],
   "source": [
    "rf_df =games_df.copy()\n",
    "\n",
    "rf_df['diff'] = rf_df['p1_rank'] -  rf_df['p2_rank']\n",
    "rf_df"
   ]
  },
  {
   "cell_type": "code",
   "execution_count": 18,
   "id": "ae15d8ee",
   "metadata": {},
   "outputs": [
    {
     "data": {
      "text/html": [
       "<div>\n",
       "<style scoped>\n",
       "    .dataframe tbody tr th:only-of-type {\n",
       "        vertical-align: middle;\n",
       "    }\n",
       "\n",
       "    .dataframe tbody tr th {\n",
       "        vertical-align: top;\n",
       "    }\n",
       "\n",
       "    .dataframe thead th {\n",
       "        text-align: right;\n",
       "    }\n",
       "</style>\n",
       "<table border=\"1\" class=\"dataframe\">\n",
       "  <thead>\n",
       "    <tr style=\"text-align: right;\">\n",
       "      <th></th>\n",
       "      <th>p1_rank</th>\n",
       "      <th>p1_home</th>\n",
       "      <th>p2_rank</th>\n",
       "      <th>p2_home</th>\n",
       "      <th>p1_prevwins</th>\n",
       "      <th>p2_prevwins</th>\n",
       "      <th>p1_form</th>\n",
       "      <th>p2_form</th>\n",
       "      <th>is_p1_win</th>\n",
       "      <th>diff</th>\n",
       "    </tr>\n",
       "  </thead>\n",
       "  <tbody>\n",
       "    <tr>\n",
       "      <th>0</th>\n",
       "      <td>1778.3</td>\n",
       "      <td>0.0</td>\n",
       "      <td>1430.4</td>\n",
       "      <td>1.0</td>\n",
       "      <td>16</td>\n",
       "      <td>0</td>\n",
       "      <td>7.5</td>\n",
       "      <td>24.5</td>\n",
       "      <td>0</td>\n",
       "      <td>347.9</td>\n",
       "    </tr>\n",
       "    <tr>\n",
       "      <th>1</th>\n",
       "      <td>1778.3</td>\n",
       "      <td>1.0</td>\n",
       "      <td>1412.8</td>\n",
       "      <td>0.0</td>\n",
       "      <td>6</td>\n",
       "      <td>0</td>\n",
       "      <td>-12.0</td>\n",
       "      <td>16.5</td>\n",
       "      <td>1</td>\n",
       "      <td>365.5</td>\n",
       "    </tr>\n",
       "    <tr>\n",
       "      <th>2</th>\n",
       "      <td>1778.3</td>\n",
       "      <td>1.0</td>\n",
       "      <td>1350.0</td>\n",
       "      <td>0.0</td>\n",
       "      <td>3</td>\n",
       "      <td>0</td>\n",
       "      <td>-10.5</td>\n",
       "      <td>8.5</td>\n",
       "      <td>1</td>\n",
       "      <td>428.3</td>\n",
       "    </tr>\n",
       "    <tr>\n",
       "      <th>3</th>\n",
       "      <td>1778.3</td>\n",
       "      <td>1.0</td>\n",
       "      <td>1099.8</td>\n",
       "      <td>0.0</td>\n",
       "      <td>2</td>\n",
       "      <td>0</td>\n",
       "      <td>-16.5</td>\n",
       "      <td>0.0</td>\n",
       "      <td>1</td>\n",
       "      <td>678.5</td>\n",
       "    </tr>\n",
       "    <tr>\n",
       "      <th>4</th>\n",
       "      <td>1778.3</td>\n",
       "      <td>1.0</td>\n",
       "      <td>1522.8</td>\n",
       "      <td>0.0</td>\n",
       "      <td>0</td>\n",
       "      <td>0</td>\n",
       "      <td>3.0</td>\n",
       "      <td>10.4</td>\n",
       "      <td>0</td>\n",
       "      <td>255.5</td>\n",
       "    </tr>\n",
       "    <tr>\n",
       "      <th>...</th>\n",
       "      <td>...</td>\n",
       "      <td>...</td>\n",
       "      <td>...</td>\n",
       "      <td>...</td>\n",
       "      <td>...</td>\n",
       "      <td>...</td>\n",
       "      <td>...</td>\n",
       "      <td>...</td>\n",
       "      <td>...</td>\n",
       "      <td>...</td>\n",
       "    </tr>\n",
       "    <tr>\n",
       "      <th>27310</th>\n",
       "      <td>686.6</td>\n",
       "      <td>1.0</td>\n",
       "      <td>707.5</td>\n",
       "      <td>0.0</td>\n",
       "      <td>0</td>\n",
       "      <td>0</td>\n",
       "      <td>5.0</td>\n",
       "      <td>-18.6</td>\n",
       "      <td>0</td>\n",
       "      <td>-20.9</td>\n",
       "    </tr>\n",
       "    <tr>\n",
       "      <th>27311</th>\n",
       "      <td>668.6</td>\n",
       "      <td>0.0</td>\n",
       "      <td>669.1</td>\n",
       "      <td>1.0</td>\n",
       "      <td>0</td>\n",
       "      <td>0</td>\n",
       "      <td>2.0</td>\n",
       "      <td>-21.0</td>\n",
       "      <td>0</td>\n",
       "      <td>-0.5</td>\n",
       "    </tr>\n",
       "    <tr>\n",
       "      <th>27312</th>\n",
       "      <td>668.6</td>\n",
       "      <td>0.0</td>\n",
       "      <td>928.9</td>\n",
       "      <td>1.0</td>\n",
       "      <td>0</td>\n",
       "      <td>0</td>\n",
       "      <td>1.0</td>\n",
       "      <td>24.0</td>\n",
       "      <td>0</td>\n",
       "      <td>-260.3</td>\n",
       "    </tr>\n",
       "    <tr>\n",
       "      <th>27314</th>\n",
       "      <td>668.6</td>\n",
       "      <td>0.0</td>\n",
       "      <td>574.4</td>\n",
       "      <td>1.0</td>\n",
       "      <td>0</td>\n",
       "      <td>0</td>\n",
       "      <td>-8.0</td>\n",
       "      <td>0.0</td>\n",
       "      <td>1</td>\n",
       "      <td>94.2</td>\n",
       "    </tr>\n",
       "    <tr>\n",
       "      <th>27315</th>\n",
       "      <td>668.6</td>\n",
       "      <td>0.0</td>\n",
       "      <td>735.3</td>\n",
       "      <td>1.0</td>\n",
       "      <td>0</td>\n",
       "      <td>0</td>\n",
       "      <td>6.0</td>\n",
       "      <td>6.0</td>\n",
       "      <td>0</td>\n",
       "      <td>-66.7</td>\n",
       "    </tr>\n",
       "  </tbody>\n",
       "</table>\n",
       "<p>25665 rows × 10 columns</p>\n",
       "</div>"
      ],
      "text/plain": [
       "       p1_rank  p1_home  p2_rank  p2_home  p1_prevwins  p2_prevwins  p1_form  \\\n",
       "0       1778.3      0.0   1430.4      1.0           16            0      7.5   \n",
       "1       1778.3      1.0   1412.8      0.0            6            0    -12.0   \n",
       "2       1778.3      1.0   1350.0      0.0            3            0    -10.5   \n",
       "3       1778.3      1.0   1099.8      0.0            2            0    -16.5   \n",
       "4       1778.3      1.0   1522.8      0.0            0            0      3.0   \n",
       "...        ...      ...      ...      ...          ...          ...      ...   \n",
       "27310    686.6      1.0    707.5      0.0            0            0      5.0   \n",
       "27311    668.6      0.0    669.1      1.0            0            0      2.0   \n",
       "27312    668.6      0.0    928.9      1.0            0            0      1.0   \n",
       "27314    668.6      0.0    574.4      1.0            0            0     -8.0   \n",
       "27315    668.6      0.0    735.3      1.0            0            0      6.0   \n",
       "\n",
       "       p2_form  is_p1_win   diff  \n",
       "0         24.5          0  347.9  \n",
       "1         16.5          1  365.5  \n",
       "2          8.5          1  428.3  \n",
       "3          0.0          1  678.5  \n",
       "4         10.4          0  255.5  \n",
       "...        ...        ...    ...  \n",
       "27310    -18.6          0  -20.9  \n",
       "27311    -21.0          0   -0.5  \n",
       "27312     24.0          0 -260.3  \n",
       "27314      0.0          1   94.2  \n",
       "27315      6.0          0  -66.7  \n",
       "\n",
       "[25665 rows x 10 columns]"
      ]
     },
     "execution_count": 18,
     "metadata": {},
     "output_type": "execute_result"
    }
   ],
   "source": [
    "rf_df = rf_df[((rf_df['diff']>=-80) | ((rf_df['diff']<-80) & rf_df['is_p1_win'] == 0))]\n",
    "rf_df\n"
   ]
  },
  {
   "cell_type": "code",
   "execution_count": 19,
   "id": "269b5f44",
   "metadata": {},
   "outputs": [],
   "source": [
    "r_X = rf_df.drop('is_p1_win',axis=1)\n",
    "r_y = rf_df['is_p1_win']\n"
   ]
  },
  {
   "cell_type": "code",
   "execution_count": 20,
   "id": "9f207235",
   "metadata": {},
   "outputs": [
    {
     "data": {
      "text/html": [
       "<div>\n",
       "<style scoped>\n",
       "    .dataframe tbody tr th:only-of-type {\n",
       "        vertical-align: middle;\n",
       "    }\n",
       "\n",
       "    .dataframe tbody tr th {\n",
       "        vertical-align: top;\n",
       "    }\n",
       "\n",
       "    .dataframe thead th {\n",
       "        text-align: right;\n",
       "    }\n",
       "</style>\n",
       "<table border=\"1\" class=\"dataframe\">\n",
       "  <thead>\n",
       "    <tr style=\"text-align: right;\">\n",
       "      <th></th>\n",
       "      <th>diff</th>\n",
       "      <th>p1_form</th>\n",
       "      <th>p2_form</th>\n",
       "      <th>p1_prevwins</th>\n",
       "      <th>p2_prevwins</th>\n",
       "    </tr>\n",
       "  </thead>\n",
       "  <tbody>\n",
       "    <tr>\n",
       "      <th>0</th>\n",
       "      <td>347.9</td>\n",
       "      <td>7.5</td>\n",
       "      <td>24.5</td>\n",
       "      <td>16</td>\n",
       "      <td>0</td>\n",
       "    </tr>\n",
       "    <tr>\n",
       "      <th>1</th>\n",
       "      <td>365.5</td>\n",
       "      <td>-12.0</td>\n",
       "      <td>16.5</td>\n",
       "      <td>6</td>\n",
       "      <td>0</td>\n",
       "    </tr>\n",
       "    <tr>\n",
       "      <th>2</th>\n",
       "      <td>428.3</td>\n",
       "      <td>-10.5</td>\n",
       "      <td>8.5</td>\n",
       "      <td>3</td>\n",
       "      <td>0</td>\n",
       "    </tr>\n",
       "    <tr>\n",
       "      <th>3</th>\n",
       "      <td>678.5</td>\n",
       "      <td>-16.5</td>\n",
       "      <td>0.0</td>\n",
       "      <td>2</td>\n",
       "      <td>0</td>\n",
       "    </tr>\n",
       "    <tr>\n",
       "      <th>4</th>\n",
       "      <td>255.5</td>\n",
       "      <td>3.0</td>\n",
       "      <td>10.4</td>\n",
       "      <td>0</td>\n",
       "      <td>0</td>\n",
       "    </tr>\n",
       "    <tr>\n",
       "      <th>...</th>\n",
       "      <td>...</td>\n",
       "      <td>...</td>\n",
       "      <td>...</td>\n",
       "      <td>...</td>\n",
       "      <td>...</td>\n",
       "    </tr>\n",
       "    <tr>\n",
       "      <th>27310</th>\n",
       "      <td>-20.9</td>\n",
       "      <td>5.0</td>\n",
       "      <td>-18.6</td>\n",
       "      <td>0</td>\n",
       "      <td>0</td>\n",
       "    </tr>\n",
       "    <tr>\n",
       "      <th>27311</th>\n",
       "      <td>-0.5</td>\n",
       "      <td>2.0</td>\n",
       "      <td>-21.0</td>\n",
       "      <td>0</td>\n",
       "      <td>0</td>\n",
       "    </tr>\n",
       "    <tr>\n",
       "      <th>27312</th>\n",
       "      <td>-260.3</td>\n",
       "      <td>1.0</td>\n",
       "      <td>24.0</td>\n",
       "      <td>0</td>\n",
       "      <td>0</td>\n",
       "    </tr>\n",
       "    <tr>\n",
       "      <th>27314</th>\n",
       "      <td>94.2</td>\n",
       "      <td>-8.0</td>\n",
       "      <td>0.0</td>\n",
       "      <td>0</td>\n",
       "      <td>0</td>\n",
       "    </tr>\n",
       "    <tr>\n",
       "      <th>27315</th>\n",
       "      <td>-66.7</td>\n",
       "      <td>6.0</td>\n",
       "      <td>6.0</td>\n",
       "      <td>0</td>\n",
       "      <td>0</td>\n",
       "    </tr>\n",
       "  </tbody>\n",
       "</table>\n",
       "<p>25665 rows × 5 columns</p>\n",
       "</div>"
      ],
      "text/plain": [
       "        diff  p1_form  p2_form  p1_prevwins  p2_prevwins\n",
       "0      347.9      7.5     24.5           16            0\n",
       "1      365.5    -12.0     16.5            6            0\n",
       "2      428.3    -10.5      8.5            3            0\n",
       "3      678.5    -16.5      0.0            2            0\n",
       "4      255.5      3.0     10.4            0            0\n",
       "...      ...      ...      ...          ...          ...\n",
       "27310  -20.9      5.0    -18.6            0            0\n",
       "27311   -0.5      2.0    -21.0            0            0\n",
       "27312 -260.3      1.0     24.0            0            0\n",
       "27314   94.2     -8.0      0.0            0            0\n",
       "27315  -66.7      6.0      6.0            0            0\n",
       "\n",
       "[25665 rows x 5 columns]"
      ]
     },
     "execution_count": 20,
     "metadata": {},
     "output_type": "execute_result"
    }
   ],
   "source": [
    "\n",
    "temp_x = r_X.copy()\n",
    "temp_x['diff'] = temp_x['p1_rank'] - temp_x['p2_rank']\n",
    "temp_x = temp_x[['diff','p1_form','p2_form','p1_prevwins','p2_prevwins']]\n",
    "\n",
    "\n",
    "temp_x"
   ]
  },
  {
   "cell_type": "code",
   "execution_count": 21,
   "id": "edcf2fc3",
   "metadata": {},
   "outputs": [
    {
     "data": {
      "text/plain": [
       "0        0\n",
       "1        1\n",
       "2        1\n",
       "3        1\n",
       "4        0\n",
       "        ..\n",
       "27310    0\n",
       "27311    0\n",
       "27312    0\n",
       "27314    1\n",
       "27315    0\n",
       "Name: is_p1_win, Length: 25665, dtype: int64"
      ]
     },
     "execution_count": 21,
     "metadata": {},
     "output_type": "execute_result"
    }
   ],
   "source": [
    "temp_y = r_y\n",
    "temp_y"
   ]
  },
  {
   "cell_type": "code",
   "execution_count": 22,
   "id": "061ac3e9",
   "metadata": {},
   "outputs": [],
   "source": [
    "scaler_temp = StandardScaler()\n",
    "X_temp_train, X_temp_test, y_temp_train, y_temp_test = train_test_split(temp_x,temp_y,test_size=0.1)"
   ]
  },
  {
   "cell_type": "code",
   "execution_count": null,
   "id": "47f21180",
   "metadata": {},
   "outputs": [],
   "source": []
  },
  {
   "cell_type": "code",
   "execution_count": 23,
   "id": "95fa98ee",
   "metadata": {},
   "outputs": [],
   "source": [
    "from sklearn.ensemble import RandomForestClassifier"
   ]
  },
  {
   "cell_type": "code",
   "execution_count": 24,
   "id": "687a90e8",
   "metadata": {},
   "outputs": [],
   "source": [
    "rf_model = RandomForestClassifier(n_estimators=1500,max_features='auto')"
   ]
  },
  {
   "cell_type": "code",
   "execution_count": 25,
   "id": "2b59d943",
   "metadata": {},
   "outputs": [
    {
     "data": {
      "text/plain": [
       "RandomForestClassifier(n_estimators=1500)"
      ]
     },
     "execution_count": 25,
     "metadata": {},
     "output_type": "execute_result"
    }
   ],
   "source": [
    "rf_model.fit(X_temp_train,y_temp_train)"
   ]
  },
  {
   "cell_type": "code",
   "execution_count": 26,
   "id": "efd25f7d",
   "metadata": {},
   "outputs": [],
   "source": [
    "rf_predicitons = rf_model.predict(X_temp_test)"
   ]
  },
  {
   "cell_type": "code",
   "execution_count": 27,
   "id": "59aa7738",
   "metadata": {},
   "outputs": [
    {
     "data": {
      "text/plain": [
       "<sklearn.metrics._plot.confusion_matrix.ConfusionMatrixDisplay at 0x7f940076e190>"
      ]
     },
     "execution_count": 27,
     "metadata": {},
     "output_type": "execute_result"
    },
    {
     "data": {
      "image/png": "[encoded data removed]",
      "text/plain": [
       "<Figure size 432x288 with 2 Axes>"
      ]
     },
     "metadata": {
      "needs_background": "light"
     },
     "output_type": "display_data"
    }
   ],
   "source": [
    "plot_confusion_matrix(rf_model,X_temp_test,y_temp_test)"
   ]
  },
  {
   "cell_type": "code",
   "execution_count": 28,
   "id": "810e002e",
   "metadata": {},
   "outputs": [
    {
     "data": {
      "text/plain": [
       "array([[ 931,  308],\n",
       "       [ 210, 1118]])"
      ]
     },
     "execution_count": 28,
     "metadata": {},
     "output_type": "execute_result"
    }
   ],
   "source": [
    "confusion_matrix(y_temp_test,rf_predicitons)"
   ]
  },
  {
   "cell_type": "code",
   "execution_count": 29,
   "id": "0bef1ce1",
   "metadata": {},
   "outputs": [
    {
     "name": "stdout",
     "output_type": "stream",
     "text": [
      "              precision    recall  f1-score   support\n",
      "\n",
      "           0       0.75      0.82      0.78      1141\n",
      "           1       0.84      0.78      0.81      1426\n",
      "\n",
      "    accuracy                           0.80      2567\n",
      "   macro avg       0.80      0.80      0.80      2567\n",
      "weighted avg       0.80      0.80      0.80      2567\n",
      "\n"
     ]
    }
   ],
   "source": [
    "print(classification_report(rf_predicitons,y_temp_test))"
   ]
  },
  {
   "cell_type": "code",
   "execution_count": 30,
   "id": "e1dce942",
   "metadata": {},
   "outputs": [
    {
     "data": {
      "text/plain": [
       "array([1])"
      ]
     },
     "execution_count": 30,
     "metadata": {},
     "output_type": "execute_result"
    }
   ],
   "source": [
    "game = {\n",
    "    \"diff\":[160],\n",
    "    \"p1_prevwins\":[0],\n",
    "    \"p2_prevwins\":[0],\n",
    "    \"p1_form\":[0],\n",
    "    \"p2_form\":[0],\n",
    "}\n",
    "\n",
    "df = pd.DataFrame.from_dict(game)\n",
    "score = rf_model. predict(df)\n",
    "score"
   ]
  },
  {
   "cell_type": "markdown",
   "id": "b1e5c5ee",
   "metadata": {},
   "source": [
    "## Trying different approach"
   ]
  },
  {
   "cell_type": "code",
   "execution_count": 32,
   "id": "f397e063",
   "metadata": {},
   "outputs": [],
   "source": [
    "games_df = pd.read_csv('games_table.csv',sep=',')\n",
    "games_df.fillna(0,inplace=True)\n",
    "games_df['is_p1_win'] = games_df['p1_win']"
   ]
  },
  {
   "cell_type": "code",
   "execution_count": 33,
   "id": "6ae25a8a",
   "metadata": {},
   "outputs": [],
   "source": [
    "X2 = games_df[['points_diff','p1_prevwins','p2_prevwins']]\n",
    "y2 = games_df['is_p1_win']\n",
    "scaler2 = StandardScaler()\n",
    "X_train2, X_test2, y_train2, y_test2 = train_test_split(X2,y2,test_size=0.1,random_state=42)"
   ]
  },
  {
   "cell_type": "code",
   "execution_count": 35,
   "id": "5878b949",
   "metadata": {
    "scrolled": true
   },
   "outputs": [],
   "source": [
    "\n",
    "scaled_X_train2 = scaler2.fit_transform(X_train2)\n",
    "scaled_X_test2 = scaler2.transform(X_test2)"
   ]
  },
  {
   "cell_type": "code",
   "execution_count": 36,
   "id": "0ecfebb3",
   "metadata": {},
   "outputs": [],
   "source": [
    "lg_model2 = LogisticRegressionCV()"
   ]
  },
  {
   "cell_type": "code",
   "execution_count": 37,
   "id": "6658e2e8",
   "metadata": {},
   "outputs": [
    {
     "data": {
      "text/plain": [
       "LogisticRegressionCV()"
      ]
     },
     "execution_count": 37,
     "metadata": {},
     "output_type": "execute_result"
    }
   ],
   "source": [
    "lg_model2.fit(scaled_X_train2,y_train2)"
   ]
  },
  {
   "cell_type": "code",
   "execution_count": 38,
   "id": "663f4b1b",
   "metadata": {},
   "outputs": [],
   "source": [
    "predictions2 = lg_model2.predict(scaled_X_test2)"
   ]
  },
  {
   "cell_type": "code",
   "execution_count": 39,
   "id": "df51940a",
   "metadata": {},
   "outputs": [
    {
     "data": {
      "text/plain": [
       "array([[ 866,  284],\n",
       "       [ 366, 1216]])"
      ]
     },
     "execution_count": 39,
     "metadata": {},
     "output_type": "execute_result"
    }
   ],
   "source": [
    "confusion_matrix(predictions2,y_test2)"
   ]
  },
  {
   "cell_type": "code",
   "execution_count": 40,
   "id": "77456589",
   "metadata": {},
   "outputs": [
    {
     "name": "stdout",
     "output_type": "stream",
     "text": [
      "              precision    recall  f1-score   support\n",
      "\n",
      "           0       0.70      0.75      0.73      1150\n",
      "           1       0.81      0.77      0.79      1582\n",
      "\n",
      "    accuracy                           0.76      2732\n",
      "   macro avg       0.76      0.76      0.76      2732\n",
      "weighted avg       0.77      0.76      0.76      2732\n",
      "\n"
     ]
    }
   ],
   "source": [
    "print(classification_report(predictions2,y_test2))"
   ]
  },
  {
   "cell_type": "markdown",
   "id": "75895721",
   "metadata": {},
   "source": [
    "## SVM"
   ]
  },
  {
   "cell_type": "code",
   "execution_count": 41,
   "id": "43a27732",
   "metadata": {},
   "outputs": [],
   "source": [
    "from sklearn.svm import SVC"
   ]
  },
  {
   "cell_type": "code",
   "execution_count": 42,
   "id": "c54cbe70",
   "metadata": {},
   "outputs": [],
   "source": [
    "svc = SVC(class_weight='balanced')"
   ]
  },
  {
   "cell_type": "code",
   "execution_count": 43,
   "id": "a4245691",
   "metadata": {},
   "outputs": [],
   "source": [
    "from sklearn.model_selection import GridSearchCV\n"
   ]
  },
  {
   "cell_type": "code",
   "execution_count": 44,
   "id": "80729a51",
   "metadata": {},
   "outputs": [],
   "source": [
    "params = {'C':[0.001,0.01,0.1,0.5,1],'gamma':['scale','auto']}"
   ]
  },
  {
   "cell_type": "code",
   "execution_count": 45,
   "id": "8f612915",
   "metadata": {},
   "outputs": [],
   "source": [
    "grid = GridSearchCV(svc,params)"
   ]
  },
  {
   "cell_type": "code",
   "execution_count": 46,
   "id": "150a2d9a",
   "metadata": {},
   "outputs": [
    {
     "data": {
      "text/plain": [
       "GridSearchCV(estimator=SVC(class_weight='balanced'),\n",
       "             param_grid={'C': [0.001, 0.01, 0.1, 0.5, 1],\n",
       "                         'gamma': ['scale', 'auto']})"
      ]
     },
     "execution_count": 46,
     "metadata": {},
     "output_type": "execute_result"
    }
   ],
   "source": [
    "grid.fit(scaled_X_train,y_train)"
   ]
  },
  {
   "cell_type": "code",
   "execution_count": 47,
   "id": "00d70168",
   "metadata": {},
   "outputs": [
    {
     "data": {
      "text/plain": [
       "{'C': 1, 'gamma': 'auto'}"
      ]
     },
     "execution_count": 47,
     "metadata": {},
     "output_type": "execute_result"
    }
   ],
   "source": [
    "grid.best_params_"
   ]
  },
  {
   "cell_type": "code",
   "execution_count": 48,
   "id": "6b16c7bf",
   "metadata": {},
   "outputs": [],
   "source": [
    "svm_predictions = grid.predict(scaled_X_test)"
   ]
  },
  {
   "cell_type": "code",
   "execution_count": 49,
   "id": "d02eb8a5",
   "metadata": {},
   "outputs": [
    {
     "data": {
      "text/plain": [
       "array([[1857,  632],\n",
       "       [ 649, 2326]])"
      ]
     },
     "execution_count": 49,
     "metadata": {},
     "output_type": "execute_result"
    }
   ],
   "source": [
    "confusion_matrix(svm_predictions,y_test)"
   ]
  },
  {
   "cell_type": "code",
   "execution_count": 50,
   "id": "92ee2ab8",
   "metadata": {},
   "outputs": [
    {
     "name": "stdout",
     "output_type": "stream",
     "text": [
      "              precision    recall  f1-score   support\n",
      "\n",
      "           0       0.74      0.75      0.74      2489\n",
      "           1       0.79      0.78      0.78      2975\n",
      "\n",
      "    accuracy                           0.77      5464\n",
      "   macro avg       0.76      0.76      0.76      5464\n",
      "weighted avg       0.77      0.77      0.77      5464\n",
      "\n"
     ]
    }
   ],
   "source": [
    "print(classification_report(svm_predictions,y_test))"
   ]
  },
  {
   "cell_type": "markdown",
   "id": "f107c87a",
   "metadata": {},
   "source": [
    "## Adaptive Boost Model"
   ]
  },
  {
   "cell_type": "code",
   "execution_count": 51,
   "id": "401f0115",
   "metadata": {},
   "outputs": [],
   "source": [
    "from sklearn.ensemble import AdaBoostClassifier"
   ]
  },
  {
   "cell_type": "code",
   "execution_count": 52,
   "id": "548c648a",
   "metadata": {},
   "outputs": [],
   "source": [
    "ad_model = AdaBoostClassifier(n_estimators=1000)"
   ]
  },
  {
   "cell_type": "code",
   "execution_count": 53,
   "id": "97923cdb",
   "metadata": {},
   "outputs": [
    {
     "data": {
      "text/plain": [
       "AdaBoostClassifier(n_estimators=1000)"
      ]
     },
     "execution_count": 53,
     "metadata": {},
     "output_type": "execute_result"
    }
   ],
   "source": [
    "ad_model.fit(X_train,y_train)"
   ]
  },
  {
   "cell_type": "code",
   "execution_count": 54,
   "id": "69a9a770",
   "metadata": {},
   "outputs": [],
   "source": [
    "ad_predictions = ad_model.predict(X_test)"
   ]
  },
  {
   "cell_type": "code",
   "execution_count": 55,
   "id": "606d4dc6",
   "metadata": {},
   "outputs": [
    {
     "data": {
      "text/plain": [
       "array([[1779,  567],\n",
       "       [ 727, 2391]])"
      ]
     },
     "execution_count": 55,
     "metadata": {},
     "output_type": "execute_result"
    }
   ],
   "source": [
    "confusion_matrix(ad_predictions,y_test)"
   ]
  },
  {
   "cell_type": "code",
   "execution_count": 56,
   "id": "1f3db0c7",
   "metadata": {},
   "outputs": [
    {
     "name": "stdout",
     "output_type": "stream",
     "text": [
      "              precision    recall  f1-score   support\n",
      "\n",
      "           0       0.71      0.76      0.73      2346\n",
      "           1       0.81      0.77      0.79      3118\n",
      "\n",
      "    accuracy                           0.76      5464\n",
      "   macro avg       0.76      0.76      0.76      5464\n",
      "weighted avg       0.77      0.76      0.76      5464\n",
      "\n"
     ]
    }
   ],
   "source": [
    "print(classification_report(ad_predictions,y_test))"
   ]
  },
  {
   "cell_type": "markdown",
   "id": "2ae73acc",
   "metadata": {},
   "source": [
    "#### Saving the model in order to use in our app"
   ]
  },
  {
   "cell_type": "code",
   "execution_count": 59,
   "id": "685d082f",
   "metadata": {},
   "outputs": [],
   "source": [
    "#import joblib\n",
    "#joblib.dump(rf_model, 'rf_model.pkl',compress=9)"
   ]
  },
  {
   "cell_type": "code",
   "execution_count": null,
   "id": "e6e49f68",
   "metadata": {},
   "outputs": [],
   "source": []
  }
 ],
 "metadata": {
  "kernelspec": {
   "display_name": "Python 3",
   "language": "python",
   "name": "python3"
  },
  "language_info": {
   "codemirror_mode": {
    "name": "ipython",
    "version": 3
   },
   "file_extension": ".py",
   "mimetype": "text/x-python",
   "name": "python",
   "nbconvert_exporter": "python",
   "pygments_lexer": "ipython3",
   "version": "3.8.8"
  }
 },
 "nbformat": 4,
 "nbformat_minor": 5
}
